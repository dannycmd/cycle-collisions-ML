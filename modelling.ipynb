{
 "cells": [
  {
   "cell_type": "code",
   "execution_count": 16,
   "metadata": {},
   "outputs": [],
   "source": [
    "from functions import transform_raw_data, clean_df, impute_fit_df, impute_transform_df\n",
    "\n",
    "from sklearn.pipeline import Pipeline\n",
    "from sklearn.base import BaseEstimator, TransformerMixin\n",
    "from sklearn.dummy import DummyClassifier\n",
    "from sklearn.metrics import accuracy_score, precision_score, recall_score, f1_score, make_scorer\n",
    "from sklearn.model_selection import train_test_split, cross_val_score, StratifiedKFold\n",
    "from sklearn.svm import SVC\n",
    "from sklearn.ensemble import RandomForestClassifier, GradientBoostingClassifier\n",
    "from sklearn.naive_bayes import CategoricalNB\n",
    "#from xgboost import XGBClassifier\n",
    "import mlflow"
   ]
  },
  {
   "cell_type": "code",
   "execution_count": 2,
   "metadata": {},
   "outputs": [],
   "source": [
    "# creating dictionary of categorical column names : corresponding one-hot encoded columns names\n",
    "# this is used to make sure every X dataset in the CV has the same columns\n",
    "df = transform_raw_data(path_to_csv=\"stats19CycleCollisions2022.csv\")\n",
    "categorical_columns = [col for col in df.select_dtypes(include='object').columns if col not in ['time','engine_capacity_cc','casualty_severity']] + ['speed_limit']\n",
    "df = clean_df(df)\n",
    "categorical_freqs, vars_to_groupby, continuous_medians_grouped, continuous_medians, scaler = impute_fit_df(df)\n",
    "df = impute_transform_df(df, categorical_freqs, vars_to_groupby, continuous_medians_grouped, continuous_medians, scaler, df.columns)\n",
    "\n",
    "encoded_cols_dict = {}\n",
    "\n",
    "for col in categorical_columns:\n",
    "    encoded_cols = [encoded_col for encoded_col in df.columns if col in encoded_col]\n",
    "    if len(encoded_cols) > 0:\n",
    "        encoded_cols_dict[col] = encoded_cols"
   ]
  },
  {
   "cell_type": "code",
   "execution_count": 3,
   "metadata": {},
   "outputs": [],
   "source": [
    "df = transform_raw_data(path_to_csv=\"stats19CycleCollisions2022.csv\")\n",
    "df = clean_df(df)"
   ]
  },
  {
   "cell_type": "code",
   "execution_count": 4,
   "metadata": {},
   "outputs": [],
   "source": [
    "# custom Transformer class for applying preprocessing in pipeline\n",
    "class CustomPreprocessor(BaseEstimator, TransformerMixin):\n",
    "    def __init__(self):\n",
    "        self.categorical_freqs = None\n",
    "        self.continuous_medians_grouped = None\n",
    "        self.continuous_medians = None\n",
    "        self.vars_to_groupby = None\n",
    "        self.scaler = None\n",
    "\n",
    "    # fit is only called on the train data\n",
    "    def fit(self, X, y=None):\n",
    "        # calculate impute values\n",
    "        self.categorical_freqs, self.vars_to_groupby, self.continuous_medians_grouped, self.continuous_medians, self.scaler = impute_fit_df(X)\n",
    "        return self\n",
    "\n",
    "    # transform is called on the both the train and test data\n",
    "    def transform(self, X, y=None):\n",
    "        # apply the preprocessing function to the data\n",
    "        return impute_transform_df(X, self.categorical_freqs, self.vars_to_groupby, self.continuous_medians_grouped, self.continuous_medians, self.scaler, X.columns, encoded_cols_dict)"
   ]
  },
  {
   "cell_type": "code",
   "execution_count": 5,
   "metadata": {},
   "outputs": [],
   "source": [
    "features = ['age_of_casualty','engine_capacity_cc','age_of_driver',\n",
    "            'vehicle_type','junction_detail','towing_and_articulation','vehicle_manoeuvre',\n",
    "            'casualty_imd_decile','pedestrian_crossing_physical_facilities','driver_imd_decile',\n",
    "            'day_of_week','time_period','season',\n",
    "            'first_road_class','road_type','speed_limit','junction_control','second_road_class',\n",
    "            'light_conditions','weather_conditions','road_surface_conditions','propulsion_code']\n",
    "target = 'casualty_severity'"
   ]
  },
  {
   "cell_type": "code",
   "execution_count": 6,
   "metadata": {},
   "outputs": [
    {
     "name": "stdout",
     "output_type": "stream",
     "text": [
      "0.7761650114591291 0.25872167048637634 0.3333333333333333 0.291326164874552\n"
     ]
    },
    {
     "name": "stderr",
     "output_type": "stream",
     "text": [
      "c:\\Users\\danjr\\anaconda3\\envs\\cycleCollisions\\lib\\site-packages\\sklearn\\metrics\\_classification.py:1471: UndefinedMetricWarning: Precision is ill-defined and being set to 0.0 in labels with no predicted samples. Use `zero_division` parameter to control this behavior.\n",
      "  _warn_prf(average, modifier, msg_start, len(result))\n"
     ]
    }
   ],
   "source": [
    "# baseline accuracy -> dummy classifier predicting the most frequent class\n",
    "pipeline = Pipeline([\n",
    "    ('custom_preprocessor', CustomPreprocessor()),\n",
    "    ('classifier', DummyClassifier(strategy=\"most_frequent\"))\n",
    "])\n",
    "X_train, X_test, y_train, y_test = train_test_split(df[features], df[target], test_size=0.2)\n",
    "pipeline.fit(X_train, y_train)\n",
    "y_pred_dummy = pipeline.predict(X_test)\n",
    "\n",
    "accuracy = accuracy_score(y_test, y_pred_dummy)\n",
    "precision = precision_score(y_test, y_pred_dummy, average='macro')\n",
    "recall = recall_score(y_test, y_pred_dummy, average='macro')\n",
    "f1 = f1_score(y_test, y_pred_dummy, average='macro')\n",
    "\n",
    "print(accuracy, precision, recall, f1)"
   ]
  },
  {
   "cell_type": "code",
   "execution_count": 7,
   "metadata": {},
   "outputs": [],
   "source": [
    "# # create a new MLflow experiment\n",
    "# mlflow.set_experiment(\"cycle collisions\")\n",
    "# with mlflow.start_run():\n",
    "#     pipeline = Pipeline([\n",
    "#         ('custom_preprocessor', CustomPreprocessor()),\n",
    "#         ('classifier', SVC())\n",
    "#     ])\n",
    "#     cv = StratifiedKFold(n_splits=5)\n",
    "#     scores = cross_val_score(pipeline, X=df[features], y=df[target], cv=cv, scoring=accuracy_score)\n",
    "\n",
    "#     mlflow.log_params(pipeline.get_params())\n",
    "#     mlflow.log_metric(\"accuracy\", accuracy)"
   ]
  },
  {
   "cell_type": "markdown",
   "metadata": {},
   "source": [
    "### 1. initial experimentation - testing different features"
   ]
  },
  {
   "cell_type": "code",
   "execution_count": 17,
   "metadata": {},
   "outputs": [],
   "source": [
    "def run_experiment(features):\n",
    "    pipeline = Pipeline([\n",
    "        ('custom_preprocessor', CustomPreprocessor()),\n",
    "        ('classifier', SVC())\n",
    "    ])\n",
    "    cv = StratifiedKFold(n_splits=5)\n",
    "    scores = cross_val_score(pipeline, X=df[features], y=df[target], cv=cv, scoring=make_scorer(accuracy_score))\n",
    "    return scores, scores.mean()"
   ]
  },
  {
   "cell_type": "code",
   "execution_count": 9,
   "metadata": {},
   "outputs": [
    {
     "data": {
      "text/plain": [
       "(array([0.78151261, 0.78363914, 0.78363914, 0.78363914, 0.78287462]),\n",
       " 0.783060930794336)"
      ]
     },
     "execution_count": 9,
     "metadata": {},
     "output_type": "execute_result"
    }
   ],
   "source": [
    "# all features\n",
    "features = ['age_of_casualty','engine_capacity_cc','age_of_driver',\n",
    "            'vehicle_type','junction_detail','towing_and_articulation','vehicle_manoeuvre',\n",
    "            'casualty_imd_decile','pedestrian_crossing_physical_facilities','driver_imd_decile',\n",
    "            'day_of_week','time_period','season',\n",
    "            'first_road_class','road_type','speed_limit','junction_control','second_road_class',\n",
    "            'light_conditions','weather_conditions','road_surface_conditions','propulsion_code']\n",
    "run_experiment(features)"
   ]
  },
  {
   "cell_type": "code",
   "execution_count": 10,
   "metadata": {},
   "outputs": [
    {
     "data": {
      "text/plain": [
       "(array([0.78304049, 0.78363914, 0.78363914, 0.78440367, 0.78287462]),\n",
       " 0.7835194127692777)"
      ]
     },
     "execution_count": 10,
     "metadata": {},
     "output_type": "execute_result"
    }
   ],
   "source": [
    "# selecting subset of features\n",
    "features = ['towing_and_articulation','pedestrian_crossing_physical_facilities',\n",
    "            'road_type','speed_limit',\n",
    "            'first_road_class','second_road_class']\n",
    "run_experiment(features)"
   ]
  }
 ],
 "metadata": {
  "kernelspec": {
   "display_name": "cycleCollisions",
   "language": "python",
   "name": "python3"
  },
  "language_info": {
   "codemirror_mode": {
    "name": "ipython",
    "version": 3
   },
   "file_extension": ".py",
   "mimetype": "text/x-python",
   "name": "python",
   "nbconvert_exporter": "python",
   "pygments_lexer": "ipython3",
   "version": "3.8.19"
  }
 },
 "nbformat": 4,
 "nbformat_minor": 2
}
