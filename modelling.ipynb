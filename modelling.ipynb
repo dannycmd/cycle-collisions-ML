{
 "cells": [
  {
   "cell_type": "code",
   "execution_count": 20,
   "metadata": {},
   "outputs": [],
   "source": [
    "import pandas as pd\n",
    "import numpy as np\n",
    "import seaborn as sns\n",
    "import matplotlib.pyplot as plt\n",
    "from functions import transform_raw_data, clean_transform_df\n",
    "from sklearn.pipeline import Pipeline\n",
    "from sklearn.base import BaseEstimator, TransformerMixin\n",
    "from sklearn.model_selection import cross_val_score, KFold\n",
    "from sklearn.svm import SVC"
   ]
  },
  {
   "cell_type": "code",
   "execution_count": 21,
   "metadata": {},
   "outputs": [],
   "source": [
    "# creating dictionary of categorical column names : corresponding one-hot encoded columns names\n",
    "# this is used to make sure every X dataset in the CV has the same columns\n",
    "df = transform_raw_data(path_to_csv=\"stats19CycleCollisions2022.csv\")\n",
    "categorical_columns = [col for col in df.select_dtypes(include='object').columns if col not in ['time','engine_capacity_cc','casualty_severity']] + ['speed_limit']\n",
    "df = clean_transform_df(df, df.columns)\n",
    "\n",
    "encoded_cols_dict = {}\n",
    "\n",
    "for col in categorical_columns:\n",
    "    encoded_cols = [encoded_col for encoded_col in df.columns if col in encoded_col]\n",
    "    if len(encoded_cols) > 0:\n",
    "        encoded_cols_dict[col] = encoded_cols"
   ]
  },
  {
   "cell_type": "code",
   "execution_count": 22,
   "metadata": {},
   "outputs": [],
   "source": [
    "df = transform_raw_data(path_to_csv=\"stats19CycleCollisions2022.csv\")"
   ]
  },
  {
   "cell_type": "code",
   "execution_count": 23,
   "metadata": {},
   "outputs": [],
   "source": [
    "# custom Transformer class for applying preprocessing in pipeline\n",
    "class CustomPreprocessor(BaseEstimator, TransformerMixin):\n",
    "    def __init__(self, func=clean_transform_df):\n",
    "        self.func = func\n",
    "\n",
    "    def fit(self, X, y=None):\n",
    "        # no fitting is needed\n",
    "        return self\n",
    "\n",
    "    def transform(self, X, y=None):\n",
    "        # apply the preprocessing function to the data\n",
    "        return self.func(X, X.columns, encoded_cols_dict)"
   ]
  },
  {
   "cell_type": "code",
   "execution_count": 24,
   "metadata": {},
   "outputs": [],
   "source": [
    "pipeline = Pipeline([\n",
    "    ('custom_preprocessor', CustomPreprocessor()),\n",
    "    ('classifier', SVC())\n",
    "])\n",
    "\n",
    "cv = KFold(n_splits=10)"
   ]
  },
  {
   "cell_type": "code",
   "execution_count": 25,
   "metadata": {},
   "outputs": [],
   "source": [
    "features = ['age_of_casualty','engine_capacity_cc','age_of_driver',\n",
    "            'vehicle_type','junction_detail','towing_and_articulation','vehicle_manoeuvre',\n",
    "            'casualty_imd_decile','pedestrian_crossing_physical_facilities','driver_imd_decile',\n",
    "            'day_of_week','time_period','season',\n",
    "            'first_road_class','road_type','speed_limit','junction_control','second_road_class',\n",
    "            'light_conditions','weather_conditions','road_surface_conditions','propulsion_code']\n",
    "target = 'casualty_severity'"
   ]
  },
  {
   "cell_type": "code",
   "execution_count": 26,
   "metadata": {},
   "outputs": [
    {
     "data": {
      "text/plain": [
       "0.7833664577281761"
      ]
     },
     "execution_count": 26,
     "metadata": {},
     "output_type": "execute_result"
    }
   ],
   "source": [
    "# baseline accuracy -> simply predict most common category\n",
    "df.groupby(\"casualty_severity\").size().max() / len(df)"
   ]
  },
  {
   "cell_type": "code",
   "execution_count": 27,
   "metadata": {},
   "outputs": [],
   "source": [
    "# Perform cross-validation\n",
    "scores = cross_val_score(pipeline, X=df[features], y=df[target], cv=cv)"
   ]
  },
  {
   "cell_type": "code",
   "execution_count": 28,
   "metadata": {},
   "outputs": [
    {
     "data": {
      "text/plain": [
       "array([0.83053435, 0.79663609, 0.75840979, 0.78287462, 0.81498471,\n",
       "       0.77522936, 0.8088685 , 0.79510703, 0.8088685 , 0.66207951])"
      ]
     },
     "execution_count": 28,
     "metadata": {},
     "output_type": "execute_result"
    }
   ],
   "source": [
    "scores"
   ]
  }
 ],
 "metadata": {
  "kernelspec": {
   "display_name": "cycleCollisions",
   "language": "python",
   "name": "python3"
  },
  "language_info": {
   "codemirror_mode": {
    "name": "ipython",
    "version": 3
   },
   "file_extension": ".py",
   "mimetype": "text/x-python",
   "name": "python",
   "nbconvert_exporter": "python",
   "pygments_lexer": "ipython3",
   "version": "3.8.19"
  }
 },
 "nbformat": 4,
 "nbformat_minor": 2
}
